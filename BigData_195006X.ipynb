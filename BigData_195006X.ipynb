{
  "nbformat": 4,
  "nbformat_minor": 0,
  "metadata": {
    "colab": {
      "provenance": [],
      "authorship_tag": "ABX9TyNV1ymorMyt7PHYjA14UEvD",
      "include_colab_link": true
    },
    "kernelspec": {
      "name": "python3",
      "display_name": "Python 3"
    },
    "language_info": {
      "name": "python"
    }
  },
  "cells": [
    {
      "cell_type": "markdown",
      "metadata": {
        "id": "view-in-github",
        "colab_type": "text"
      },
      "source": [
        "<a href=\"https://colab.research.google.com/github/sachinibuddhika/Big-Data-Project-Analysis-on-Swiggy-Zomato-Order-Information-Dataseton/blob/main/BigData_195006X.ipynb\" target=\"_parent\"><img src=\"https://colab.research.google.com/assets/colab-badge.svg\" alt=\"Open In Colab\"/></a>"
      ]
    },
    {
      "cell_type": "markdown",
      "source": [
        "**Mount google drive**"
      ],
      "metadata": {
        "id": "44PHZ0IiXthT"
      }
    },
    {
      "cell_type": "code",
      "source": [
        "from google.colab import drive\n",
        "drive.mount('/content/drive')"
      ],
      "metadata": {
        "colab": {
          "base_uri": "https://localhost:8080/"
        },
        "id": "wtNiD9KcXjGM",
        "outputId": "bd9b25ce-5eff-4787-f11f-fdf04c7a7515"
      },
      "execution_count": 396,
      "outputs": [
        {
          "output_type": "stream",
          "name": "stdout",
          "text": [
            "Drive already mounted at /content/drive; to attempt to forcibly remount, call drive.mount(\"/content/drive\", force_remount=True).\n"
          ]
        }
      ]
    },
    {
      "cell_type": "markdown",
      "source": [
        "**Initialize spark context**"
      ],
      "metadata": {
        "id": "rimobtKzZfEr"
      }
    },
    {
      "cell_type": "code",
      "source": [
        "#install pyspark\n",
        "!pip install pyspark\n",
        "\n",
        "# Import necessary libraries\n",
        "from pyspark.sql import SparkSession\n",
        "from pyspark.sql.functions import col"
      ],
      "metadata": {
        "colab": {
          "base_uri": "https://localhost:8080/"
        },
        "id": "reEDWFGeZ7_6",
        "outputId": "c9a259ae-b09c-418d-de11-937100f6a0ae"
      },
      "execution_count": 397,
      "outputs": [
        {
          "output_type": "stream",
          "name": "stdout",
          "text": [
            "Requirement already satisfied: pyspark in /usr/local/lib/python3.10/dist-packages (3.5.1)\n",
            "Requirement already satisfied: py4j==0.10.9.7 in /usr/local/lib/python3.10/dist-packages (from pyspark) (0.10.9.7)\n"
          ]
        }
      ]
    },
    {
      "cell_type": "code",
      "source": [
        "# Create a SparkSession\n",
        "spark = SparkSession.builder \\\n",
        "    .appName(\"OrderAnalysis\") \\\n",
        "    .getOrCreate()"
      ],
      "metadata": {
        "id": "cQaU4falevl8"
      },
      "execution_count": 398,
      "outputs": []
    },
    {
      "cell_type": "code",
      "execution_count": 399,
      "metadata": {
        "colab": {
          "base_uri": "https://localhost:8080/",
          "height": 219
        },
        "id": "MAlgKlOER4OO",
        "outputId": "1b173fd2-b18c-4b0f-97fb-39f025db013e"
      },
      "outputs": [
        {
          "output_type": "execute_result",
          "data": {
            "text/plain": [
              "<pyspark.sql.session.SparkSession at 0x78e8535731c0>"
            ],
            "text/html": [
              "\n",
              "            <div>\n",
              "                <p><b>SparkSession - in-memory</b></p>\n",
              "                \n",
              "        <div>\n",
              "            <p><b>SparkContext</b></p>\n",
              "\n",
              "            <p><a href=\"http://53370ef9293d:4040\">Spark UI</a></p>\n",
              "\n",
              "            <dl>\n",
              "              <dt>Version</dt>\n",
              "                <dd><code>v3.5.1</code></dd>\n",
              "              <dt>Master</dt>\n",
              "                <dd><code>local[*]</code></dd>\n",
              "              <dt>AppName</dt>\n",
              "                <dd><code>OrderAnalysis</code></dd>\n",
              "            </dl>\n",
              "        </div>\n",
              "        \n",
              "            </div>\n",
              "        "
            ]
          },
          "metadata": {},
          "execution_count": 399
        }
      ],
      "source": [
        "spark"
      ]
    },
    {
      "cell_type": "code",
      "source": [
        "conf = spark.sparkContext.getConf()\n",
        "\n",
        "# Print the configuration settings\n",
        "print(\"spark.app.name = \", conf.get(\"spark.app.name\"))\n",
        "print(\"spark.master = \", conf.get(\"spark.master\"))\n",
        "print(\"spark.executor.memory = \", conf.get(\"spark.executor.memory\"))"
      ],
      "metadata": {
        "colab": {
          "base_uri": "https://localhost:8080/"
        },
        "id": "ev9QeQSkkHCG",
        "outputId": "f7f02f81-72e0-4a2e-ce43-74c17d3a9805"
      },
      "execution_count": 400,
      "outputs": [
        {
          "output_type": "stream",
          "name": "stdout",
          "text": [
            "spark.app.name =  OrderAnalysis\n",
            "spark.master =  local[*]\n",
            "spark.executor.memory =  None\n"
          ]
        }
      ]
    },
    {
      "cell_type": "code",
      "source": [
        "# Load the CSV file into a DataFrame\n",
        "df = spark.read.csv('/content/drive/My Drive/BigData/DataSet/Rider-Info.csv', header=True)\n"
      ],
      "metadata": {
        "id": "_PZZpMJNkade"
      },
      "execution_count": 401,
      "outputs": []
    },
    {
      "cell_type": "markdown",
      "source": [
        "**Read the dataset**"
      ],
      "metadata": {
        "id": "SREMofDAkkjO"
      }
    },
    {
      "cell_type": "code",
      "source": [
        "#specifying the dataset to read\n",
        "help(spark.read.csv)"
      ],
      "metadata": {
        "colab": {
          "base_uri": "https://localhost:8080/"
        },
        "id": "VCtvd8gVlJhW",
        "outputId": "aad5d77a-e4b1-418c-9fa1-508e1bf8af21"
      },
      "execution_count": 402,
      "outputs": [
        {
          "output_type": "stream",
          "name": "stdout",
          "text": [
            "Help on method csv in module pyspark.sql.readwriter:\n",
            "\n",
            "csv(path: Union[str, List[str]], schema: Union[pyspark.sql.types.StructType, str, NoneType] = None, sep: Optional[str] = None, encoding: Optional[str] = None, quote: Optional[str] = None, escape: Optional[str] = None, comment: Optional[str] = None, header: Union[bool, str, NoneType] = None, inferSchema: Union[bool, str, NoneType] = None, ignoreLeadingWhiteSpace: Union[bool, str, NoneType] = None, ignoreTrailingWhiteSpace: Union[bool, str, NoneType] = None, nullValue: Optional[str] = None, nanValue: Optional[str] = None, positiveInf: Optional[str] = None, negativeInf: Optional[str] = None, dateFormat: Optional[str] = None, timestampFormat: Optional[str] = None, maxColumns: Union[str, int, NoneType] = None, maxCharsPerColumn: Union[str, int, NoneType] = None, maxMalformedLogPerPartition: Union[str, int, NoneType] = None, mode: Optional[str] = None, columnNameOfCorruptRecord: Optional[str] = None, multiLine: Union[bool, str, NoneType] = None, charToEscapeQuoteEscaping: Optional[str] = None, samplingRatio: Union[str, float, NoneType] = None, enforceSchema: Union[bool, str, NoneType] = None, emptyValue: Optional[str] = None, locale: Optional[str] = None, lineSep: Optional[str] = None, pathGlobFilter: Union[bool, str, NoneType] = None, recursiveFileLookup: Union[bool, str, NoneType] = None, modifiedBefore: Union[bool, str, NoneType] = None, modifiedAfter: Union[bool, str, NoneType] = None, unescapedQuoteHandling: Optional[str] = None) -> 'DataFrame' method of pyspark.sql.readwriter.DataFrameReader instance\n",
            "    Loads a CSV file and returns the result as a  :class:`DataFrame`.\n",
            "    \n",
            "    This function will go through the input once to determine the input schema if\n",
            "    ``inferSchema`` is enabled. To avoid going through the entire data once, disable\n",
            "    ``inferSchema`` option or specify the schema explicitly using ``schema``.\n",
            "    \n",
            "    .. versionadded:: 2.0.0\n",
            "    \n",
            "    .. versionchanged:: 3.4.0\n",
            "        Supports Spark Connect.\n",
            "    \n",
            "    Parameters\n",
            "    ----------\n",
            "    path : str or list\n",
            "        string, or list of strings, for input path(s),\n",
            "        or RDD of Strings storing CSV rows.\n",
            "    schema : :class:`pyspark.sql.types.StructType` or str, optional\n",
            "        an optional :class:`pyspark.sql.types.StructType` for the input schema\n",
            "        or a DDL-formatted string (For example ``col0 INT, col1 DOUBLE``).\n",
            "    \n",
            "    Other Parameters\n",
            "    ----------------\n",
            "    Extra options\n",
            "        For the extra options, refer to\n",
            "        `Data Source Option <https://spark.apache.org/docs/latest/sql-data-sources-csv.html#data-source-option>`_\n",
            "        for the version you use.\n",
            "    \n",
            "        .. # noqa\n",
            "    \n",
            "    Examples\n",
            "    --------\n",
            "    Write a DataFrame into a CSV file and read it back.\n",
            "    \n",
            "    >>> import tempfile\n",
            "    >>> with tempfile.TemporaryDirectory() as d:\n",
            "    ...     # Write a DataFrame into a CSV file\n",
            "    ...     df = spark.createDataFrame([{\"age\": 100, \"name\": \"Hyukjin Kwon\"}])\n",
            "    ...     df.write.mode(\"overwrite\").format(\"csv\").save(d)\n",
            "    ...\n",
            "    ...     # Read the CSV file as a DataFrame with 'nullValue' option set to 'Hyukjin Kwon'.\n",
            "    ...     spark.read.csv(d, schema=df.schema, nullValue=\"Hyukjin Kwon\").show()\n",
            "    +---+----+\n",
            "    |age|name|\n",
            "    +---+----+\n",
            "    |100|NULL|\n",
            "    +---+----+\n",
            "\n"
          ]
        }
      ]
    },
    {
      "cell_type": "code",
      "source": [
        "# Load the CSV file into a DataFrame\n",
        "df = spark.read.csv('/content/drive/My Drive/BigData/DataSet/Rider-Info.csv', header=True)"
      ],
      "metadata": {
        "id": "5-tAnbSHkitO"
      },
      "execution_count": 403,
      "outputs": []
    },
    {
      "cell_type": "code",
      "source": [
        "df.show(5)"
      ],
      "metadata": {
        "colab": {
          "base_uri": "https://localhost:8080/"
        },
        "id": "kOtxBbySlc2V",
        "outputId": "e9136771-0095-440c-c612-689ba13b4383"
      },
      "execution_count": 404,
      "outputs": [
        {
          "output_type": "stream",
          "name": "stdout",
          "text": [
            "+-------------------+--------+-------------------+-------------------+-------------------+-------------------+-------------------+--------+-------------------+------------------+--------------+----------------+---------+------------------+--------------------+-------------------+-------------------+----------------+------------------+--------------+\n",
            "|         order_time|order_id|         order_date|         allot_time|        accept_time|        pickup_time|     delivered_time|rider_id|first_mile_distance|last_mile_distance|alloted_orders|delivered_orders|cancelled|undelivered_orders|lifetime_order_count|reassignment_method|reassignment_reason|reassigned_order|      session_time|cancelled_time|\n",
            "+-------------------+--------+-------------------+-------------------+-------------------+-------------------+-------------------+--------+-------------------+------------------+--------------+----------------+---------+------------------+--------------------+-------------------+-------------------+----------------+------------------+--------------+\n",
            "|2021-01-26 02:21:35|  556753|2021-01-26 00:00:00|2021-01-26 02:21:59|2021-01-26 02:22:08|2021-01-26 02:32:51|2021-01-26 02:49:47|   11696|             1.5666|              2.65|          46.0|            46.0|        0|               0.0|               621.0|               NULL|               NULL|            NULL|              NULL|          NULL|\n",
            "|2021-01-26 02:33:16|  556754|2021-01-26 00:00:00|2021-01-26 02:33:57|2021-01-26 02:34:45|2021-01-26 02:50:25|2021-01-26 03:11:15|   18117|             2.5207|              2.76|           8.0|             8.0|        0|               0.0|               105.0|               NULL|               NULL|            NULL|3.2666666666666666|          NULL|\n",
            "|2021-01-26 02:39:49|  556755|2021-01-26 00:00:00|2021-01-26 02:39:57|2021-01-26 02:40:13|2021-01-26 02:56:00|2021-01-26 03:12:46|   18623|             2.2074|               4.8|           1.0|             1.0|        0|               0.0|                66.0|               NULL|               NULL|            NULL| 9.816666666666666|          NULL|\n",
            "|2021-01-26 02:47:53|  556756|2021-01-26 00:00:00|2021-01-26 02:48:25|2021-01-26 02:49:06|2021-01-26 03:21:51|2021-01-26 03:41:05|   15945|             2.1894|              6.38|           1.0|             1.0|        0|               0.0|               127.0|               NULL|               NULL|            NULL|17.533333333333335|          NULL|\n",
            "|2021-01-26 03:06:30|  556757|2021-01-26 00:00:00|2021-01-26 03:07:21|2021-01-26 03:07:57|2021-01-26 03:31:38|2021-01-26 04:00:15|   17589|              2.787|              4.01|          34.0|            34.0|        0|               0.0|                84.0|               NULL|               NULL|            NULL|              1.35|          NULL|\n",
            "+-------------------+--------+-------------------+-------------------+-------------------+-------------------+-------------------+--------+-------------------+------------------+--------------+----------------+---------+------------------+--------------------+-------------------+-------------------+----------------+------------------+--------------+\n",
            "only showing top 5 rows\n",
            "\n"
          ]
        }
      ]
    },
    {
      "cell_type": "code",
      "source": [
        "df.columns\n"
      ],
      "metadata": {
        "colab": {
          "base_uri": "https://localhost:8080/"
        },
        "id": "gZmxqq71Wzh6",
        "outputId": "1743ef81-461d-4949-b7d8-e28e36809093"
      },
      "execution_count": 405,
      "outputs": [
        {
          "output_type": "execute_result",
          "data": {
            "text/plain": [
              "['order_time',\n",
              " 'order_id',\n",
              " 'order_date',\n",
              " 'allot_time',\n",
              " 'accept_time',\n",
              " 'pickup_time',\n",
              " 'delivered_time',\n",
              " 'rider_id',\n",
              " 'first_mile_distance',\n",
              " 'last_mile_distance',\n",
              " 'alloted_orders',\n",
              " 'delivered_orders',\n",
              " 'cancelled',\n",
              " 'undelivered_orders',\n",
              " 'lifetime_order_count',\n",
              " 'reassignment_method',\n",
              " 'reassignment_reason',\n",
              " 'reassigned_order',\n",
              " 'session_time',\n",
              " 'cancelled_time']"
            ]
          },
          "metadata": {},
          "execution_count": 405
        }
      ]
    },
    {
      "cell_type": "markdown",
      "source": [
        "**Preprocess data**"
      ],
      "metadata": {
        "id": "0QFEouj2KeYB"
      }
    },
    {
      "cell_type": "code",
      "source": [
        "from pyspark.sql import functions as F"
      ],
      "metadata": {
        "id": "VoK69JOAktns"
      },
      "execution_count": 406,
      "outputs": []
    },
    {
      "cell_type": "markdown",
      "source": [
        "Dropping columns"
      ],
      "metadata": {
        "id": "bPBPl2JtK6Ad"
      }
    },
    {
      "cell_type": "code",
      "source": [
        "columns_to_drop = ['accept_time', 'undelivered_orders','reassignment_method', 'reassignment_reason']\n",
        "df2 = df.drop(*columns_to_drop)\n",
        "\n",
        "df2.show(5)"
      ],
      "metadata": {
        "colab": {
          "base_uri": "https://localhost:8080/"
        },
        "id": "addykTNzfCHK",
        "outputId": "7588de07-ee93-4915-c2ef-12c687f1519a"
      },
      "execution_count": 407,
      "outputs": [
        {
          "output_type": "stream",
          "name": "stdout",
          "text": [
            "+-------------------+--------+-------------------+-------------------+-------------------+-------------------+--------+-------------------+------------------+--------------+----------------+---------+--------------------+----------------+------------------+--------------+\n",
            "|         order_time|order_id|         order_date|         allot_time|        pickup_time|     delivered_time|rider_id|first_mile_distance|last_mile_distance|alloted_orders|delivered_orders|cancelled|lifetime_order_count|reassigned_order|      session_time|cancelled_time|\n",
            "+-------------------+--------+-------------------+-------------------+-------------------+-------------------+--------+-------------------+------------------+--------------+----------------+---------+--------------------+----------------+------------------+--------------+\n",
            "|2021-01-26 02:21:35|  556753|2021-01-26 00:00:00|2021-01-26 02:21:59|2021-01-26 02:32:51|2021-01-26 02:49:47|   11696|             1.5666|              2.65|          46.0|            46.0|        0|               621.0|            NULL|              NULL|          NULL|\n",
            "|2021-01-26 02:33:16|  556754|2021-01-26 00:00:00|2021-01-26 02:33:57|2021-01-26 02:50:25|2021-01-26 03:11:15|   18117|             2.5207|              2.76|           8.0|             8.0|        0|               105.0|            NULL|3.2666666666666666|          NULL|\n",
            "|2021-01-26 02:39:49|  556755|2021-01-26 00:00:00|2021-01-26 02:39:57|2021-01-26 02:56:00|2021-01-26 03:12:46|   18623|             2.2074|               4.8|           1.0|             1.0|        0|                66.0|            NULL| 9.816666666666666|          NULL|\n",
            "|2021-01-26 02:47:53|  556756|2021-01-26 00:00:00|2021-01-26 02:48:25|2021-01-26 03:21:51|2021-01-26 03:41:05|   15945|             2.1894|              6.38|           1.0|             1.0|        0|               127.0|            NULL|17.533333333333335|          NULL|\n",
            "|2021-01-26 03:06:30|  556757|2021-01-26 00:00:00|2021-01-26 03:07:21|2021-01-26 03:31:38|2021-01-26 04:00:15|   17589|              2.787|              4.01|          34.0|            34.0|        0|                84.0|            NULL|              1.35|          NULL|\n",
            "+-------------------+--------+-------------------+-------------------+-------------------+-------------------+--------+-------------------+------------------+--------------+----------------+---------+--------------------+----------------+------------------+--------------+\n",
            "only showing top 5 rows\n",
            "\n"
          ]
        }
      ]
    },
    {
      "cell_type": "code",
      "source": [
        "df2.columns"
      ],
      "metadata": {
        "colab": {
          "base_uri": "https://localhost:8080/"
        },
        "id": "dJLcxbhKfWl4",
        "outputId": "9ec65a27-9abc-45fc-c720-683b2d11d1c7"
      },
      "execution_count": 408,
      "outputs": [
        {
          "output_type": "execute_result",
          "data": {
            "text/plain": [
              "['order_time',\n",
              " 'order_id',\n",
              " 'order_date',\n",
              " 'allot_time',\n",
              " 'pickup_time',\n",
              " 'delivered_time',\n",
              " 'rider_id',\n",
              " 'first_mile_distance',\n",
              " 'last_mile_distance',\n",
              " 'alloted_orders',\n",
              " 'delivered_orders',\n",
              " 'cancelled',\n",
              " 'lifetime_order_count',\n",
              " 'reassigned_order',\n",
              " 'session_time',\n",
              " 'cancelled_time']"
            ]
          },
          "metadata": {},
          "execution_count": 408
        }
      ]
    },
    {
      "cell_type": "markdown",
      "source": [
        "Dropping null rows"
      ],
      "metadata": {
        "id": "0p42b_u0ft4r"
      }
    },
    {
      "cell_type": "code",
      "source": [
        "# display null values\n",
        "df2.select([F.count(F.when(F.col(c).isNull(), c)).alias(c) for c in df2.columns]).show()"
      ],
      "metadata": {
        "colab": {
          "base_uri": "https://localhost:8080/"
        },
        "id": "SZk6Ns7bzVJq",
        "outputId": "3a0a0e9f-c302-4e6e-9460-51320f7d28fd"
      },
      "execution_count": 409,
      "outputs": [
        {
          "output_type": "stream",
          "name": "stdout",
          "text": [
            "+----------+--------+----------+----------+-----------+--------------+--------+-------------------+------------------+--------------+----------------+---------+--------------------+----------------+------------+--------------+\n",
            "|order_time|order_id|order_date|allot_time|pickup_time|delivered_time|rider_id|first_mile_distance|last_mile_distance|alloted_orders|delivered_orders|cancelled|lifetime_order_count|reassigned_order|session_time|cancelled_time|\n",
            "+----------+--------+----------+----------+-----------+--------------+--------+-------------------+------------------+--------------+----------------+---------+--------------------+----------------+------------+--------------+\n",
            "|         0|       0|         0|         0|       2421|          5218|       0|                  0|                 0|         16948|           17341|        0|                  53|          436247|        3675|        444782|\n",
            "+----------+--------+----------+----------+-----------+--------------+--------+-------------------+------------------+--------------+----------------+---------+--------------------+----------------+------------+--------------+\n",
            "\n"
          ]
        }
      ]
    },
    {
      "cell_type": "code",
      "source": [
        "df2 = df2.filter(df.accept_time.isNotNull())"
      ],
      "metadata": {
        "id": "RSTWh4G7fxAb"
      },
      "execution_count": 410,
      "outputs": []
    },
    {
      "cell_type": "code",
      "source": [
        "rows_to_drop = ['pickup_time','delivered_time']"
      ],
      "metadata": {
        "id": "k2u_doCZfzHK"
      },
      "execution_count": 411,
      "outputs": []
    },
    {
      "cell_type": "code",
      "source": [],
      "metadata": {
        "id": "dT4SSg3NjMD0"
      },
      "execution_count": 411,
      "outputs": []
    },
    {
      "cell_type": "code",
      "source": [
        "for row in rows_to_drop:\n",
        "  df2 = df2.filter(df[row].isNotNull())"
      ],
      "metadata": {
        "id": "W6gadqS_f9qi"
      },
      "execution_count": 412,
      "outputs": []
    },
    {
      "cell_type": "code",
      "source": [
        "# display null values\n",
        "df2.select([F.count(F.when(F.col(c).isNull(), c)).alias(c) for c in df2.columns]).show()"
      ],
      "metadata": {
        "colab": {
          "base_uri": "https://localhost:8080/"
        },
        "id": "habeqb9Kf_oL",
        "outputId": "62a6839a-f443-4e19-b9da-d9cf5a1a6ffe"
      },
      "execution_count": 413,
      "outputs": [
        {
          "output_type": "stream",
          "name": "stdout",
          "text": [
            "+----------+--------+----------+----------+-----------+--------------+--------+-------------------+------------------+--------------+----------------+---------+--------------------+----------------+------------+--------------+\n",
            "|order_time|order_id|order_date|allot_time|pickup_time|delivered_time|rider_id|first_mile_distance|last_mile_distance|alloted_orders|delivered_orders|cancelled|lifetime_order_count|reassigned_order|session_time|cancelled_time|\n",
            "+----------+--------+----------+----------+-----------+--------------+--------+-------------------+------------------+--------------+----------------+---------+--------------------+----------------+------------+--------------+\n",
            "|         0|       0|         0|         0|          0|             0|       0|                  0|                 0|         16299|           16486|        0|                   2|          431751|        3531|        444782|\n",
            "+----------+--------+----------+----------+-----------+--------------+--------+-------------------+------------------+--------------+----------------+---------+--------------------+----------------+------------+--------------+\n",
            "\n"
          ]
        }
      ]
    },
    {
      "cell_type": "code",
      "source": [
        "df2.count()"
      ],
      "metadata": {
        "colab": {
          "base_uri": "https://localhost:8080/"
        },
        "id": "paiwnX4yjeQ0",
        "outputId": "ac0d747e-2ca6-443d-d6f6-6c04527b0e56"
      },
      "execution_count": 414,
      "outputs": [
        {
          "output_type": "execute_result",
          "data": {
            "text/plain": [
              "444782"
            ]
          },
          "metadata": {},
          "execution_count": 414
        }
      ]
    },
    {
      "cell_type": "markdown",
      "source": [
        "Filling missing values"
      ],
      "metadata": {
        "id": "vduEtPL_jxbk"
      }
    },
    {
      "cell_type": "code",
      "source": [
        "from pyspark.sql.functions import mean"
      ],
      "metadata": {
        "id": "jDj6WxenlVvD"
      },
      "execution_count": 415,
      "outputs": []
    },
    {
      "cell_type": "code",
      "source": [
        "# Fill missing values with mean in specified columns\n",
        "columns_to_fill = ['alloted_orders', 'delivered_orders', 'lifetime_order_count', 'session_time']\n",
        "mean_values = df2.select([mean(col).alias(col) for col in columns_to_fill]).collect()[0].asDict()\n",
        "df2 = df2.fillna(mean_values)"
      ],
      "metadata": {
        "id": "uCW-6zavlAWM"
      },
      "execution_count": 416,
      "outputs": []
    },
    {
      "cell_type": "code",
      "source": [
        "# display null values\n",
        "df2.select([F.count(F.when(F.col(c).isNull(), c)).alias(c) for c in df2.columns]).show()"
      ],
      "metadata": {
        "colab": {
          "base_uri": "https://localhost:8080/"
        },
        "id": "073ypiK7lbhN",
        "outputId": "1d747b44-a2ea-4abf-dede-e1a1abd369d2"
      },
      "execution_count": 417,
      "outputs": [
        {
          "output_type": "stream",
          "name": "stdout",
          "text": [
            "+----------+--------+----------+----------+-----------+--------------+--------+-------------------+------------------+--------------+----------------+---------+--------------------+----------------+------------+--------------+\n",
            "|order_time|order_id|order_date|allot_time|pickup_time|delivered_time|rider_id|first_mile_distance|last_mile_distance|alloted_orders|delivered_orders|cancelled|lifetime_order_count|reassigned_order|session_time|cancelled_time|\n",
            "+----------+--------+----------+----------+-----------+--------------+--------+-------------------+------------------+--------------+----------------+---------+--------------------+----------------+------------+--------------+\n",
            "|         0|       0|         0|         0|          0|             0|       0|                  0|                 0|             0|               0|        0|                   0|          431751|           0|        444782|\n",
            "+----------+--------+----------+----------+-----------+--------------+--------+-------------------+------------------+--------------+----------------+---------+--------------------+----------------+------------+--------------+\n",
            "\n"
          ]
        }
      ]
    },
    {
      "cell_type": "markdown",
      "source": [
        "**Feature Engineering**"
      ],
      "metadata": {
        "id": "ioCSxZwIKHBR"
      }
    },
    {
      "cell_type": "markdown",
      "source": [
        "Add Column Order Processing Time"
      ],
      "metadata": {
        "id": "28K0O1QZJula"
      }
    },
    {
      "cell_type": "code",
      "source": [
        "from pyspark.sql.functions import col, unix_timestamp, when, floor"
      ],
      "metadata": {
        "id": "gqcV104oKMH3"
      },
      "execution_count": 418,
      "outputs": []
    },
    {
      "cell_type": "code",
      "source": [
        "from pyspark.sql.functions import col, unix_timestamp, when\n",
        "\n",
        "# Calculate order processing time in minutes\n",
        "df2 = df2.withColumn(\"order_processing_time_minutes\",\n",
        "                     (when(col(\"delivered_time\").isNotNull(),\n",
        "                           (unix_timestamp(\"delivered_time\", \"yyyy-MM-dd HH:mm:ss\") - unix_timestamp(\"order_time\", \"yyyy-MM-dd HH:mm:ss\")) / 60)\n",
        "                      .otherwise((unix_timestamp(\"cancelled_time\", \"yyyy-MM-dd HH:mm:ss\") - unix_timestamp(\"order_time\", \"yyyy-MM-dd HH:mm:ss\")) / 60)\n",
        "                     ).cast(\"int\"))\n",
        "\n",
        "# Select and display only the order processing time in minutes\n",
        "df2.show(truncate=False)\n"
      ],
      "metadata": {
        "colab": {
          "base_uri": "https://localhost:8080/"
        },
        "id": "Yz-aV77hKJr0",
        "outputId": "1a424f21-d12f-4637-f162-b9bf7acb7ae0"
      },
      "execution_count": 419,
      "outputs": [
        {
          "output_type": "stream",
          "name": "stdout",
          "text": [
            "+-------------------+--------+-------------------+-------------------+-------------------+-------------------+--------+-------------------+------------------+-----------------+------------------+---------+--------------------+----------------+------------------+--------------+-----------------------------+\n",
            "|order_time         |order_id|order_date         |allot_time         |pickup_time        |delivered_time     |rider_id|first_mile_distance|last_mile_distance|alloted_orders   |delivered_orders  |cancelled|lifetime_order_count|reassigned_order|session_time      |cancelled_time|order_processing_time_minutes|\n",
            "+-------------------+--------+-------------------+-------------------+-------------------+-------------------+--------+-------------------+------------------+-----------------+------------------+---------+--------------------+----------------+------------------+--------------+-----------------------------+\n",
            "|2021-01-26 02:21:35|556753  |2021-01-26 00:00:00|2021-01-26 02:21:59|2021-01-26 02:32:51|2021-01-26 02:49:47|11696   |1.5666             |2.65              |46.0             |46.0              |0        |621.0               |NULL            |220.85306371354298|NULL          |28                           |\n",
            "|2021-01-26 02:33:16|556754  |2021-01-26 00:00:00|2021-01-26 02:33:57|2021-01-26 02:50:25|2021-01-26 03:11:15|18117   |2.5207             |2.76              |8.0              |8.0               |0        |105.0               |NULL            |3.2666666666666666|NULL          |37                           |\n",
            "|2021-01-26 02:39:49|556755  |2021-01-26 00:00:00|2021-01-26 02:39:57|2021-01-26 02:56:00|2021-01-26 03:12:46|18623   |2.2074             |4.8               |1.0              |1.0               |0        |66.0                |NULL            |9.816666666666666 |NULL          |32                           |\n",
            "|2021-01-26 02:47:53|556756  |2021-01-26 00:00:00|2021-01-26 02:48:25|2021-01-26 03:21:51|2021-01-26 03:41:05|15945   |2.1894             |6.38              |1.0              |1.0               |0        |127.0               |NULL            |17.533333333333335|NULL          |53                           |\n",
            "|2021-01-26 03:06:30|556757  |2021-01-26 00:00:00|2021-01-26 03:07:21|2021-01-26 03:31:38|2021-01-26 04:00:15|17589   |2.787              |4.01              |34.0             |34.0              |0        |84.0                |NULL            |1.35              |NULL          |53                           |\n",
            "|2021-01-26 03:07:16|556758  |2021-01-26 00:00:00|2021-01-26 03:12:14|2021-01-26 03:25:36|2021-01-26 03:45:51|1469    |2.4818             |5.18              |296.0            |294.0             |0        |1506.0              |NULL            |220.85306371354298|NULL          |38                           |\n",
            "|2021-01-26 03:10:50|556759  |2021-01-26 00:00:00|2021-01-26 03:11:18|2021-01-26 03:19:31|2021-01-26 03:26:04|8851    |2.8091             |3.4               |45.0             |45.0              |0        |1460.0              |NULL            |220.85306371354298|NULL          |15                           |\n",
            "|2021-01-26 03:14:10|556760  |2021-01-26 00:00:00|2021-01-26 03:14:38|2021-01-26 03:33:53|2021-01-26 03:42:38|8493    |0.0256813580427    |0.16              |54.0             |53.0              |0        |270.0               |NULL            |44.16666666666666 |NULL          |28                           |\n",
            "|2021-01-26 03:14:20|556761  |2021-01-26 00:00:00|2021-01-26 03:14:50|2021-01-26 04:00:02|2021-01-26 04:13:31|11543   |2.4442             |2.86              |29.0             |29.0              |0        |955.0               |NULL            |2.5               |NULL          |59                           |\n",
            "|2021-01-26 03:15:18|556762  |2021-01-26 00:00:00|2021-01-26 03:21:27|2021-01-26 04:14:56|2021-01-26 04:38:39|21037   |2.8786             |2.61              |104.9419393534866|104.22386153501317|0        |1.0                 |1.0             |220.85306371354298|NULL          |83                           |\n",
            "|2021-01-26 03:16:12|556763  |2021-01-26 00:00:00|2021-01-26 03:16:53|2021-01-26 03:31:53|2021-01-26 03:40:16|8795    |1.393              |3.31              |17.0             |17.0              |0        |174.0               |NULL            |43.25             |NULL          |24                           |\n",
            "|2021-01-26 03:16:43|556764  |2021-01-26 00:00:00|2021-01-26 03:16:49|2021-01-26 03:26:29|2021-01-26 03:41:04|513     |1.4751             |3.62              |12.0             |12.0              |0        |269.0               |NULL            |46.71666666666667 |NULL          |24                           |\n",
            "|2021-01-26 03:17:13|556765  |2021-01-26 00:00:00|2021-01-26 03:17:29|2021-01-26 03:48:56|2021-01-26 03:59:45|17947   |1.7201             |0.38              |53.0             |52.0              |0        |801.0               |NULL            |220.85306371354298|NULL          |42                           |\n",
            "|2021-01-26 03:21:07|556766  |2021-01-26 00:00:00|2021-01-26 03:21:34|2021-01-26 03:33:17|2021-01-26 03:39:24|294     |0.6929             |1.46              |252.0            |250.0             |0        |2390.0              |NULL            |220.85306371354298|NULL          |18                           |\n",
            "|2021-01-26 03:21:37|556767  |2021-01-26 00:00:00|2021-01-26 03:22:28|2021-01-26 03:47:49|2021-01-26 04:06:38|1724    |1.5005             |4.83              |67.0             |67.0              |0        |484.0               |NULL            |220.85306371354298|NULL          |45                           |\n",
            "|2021-01-26 03:21:56|556768  |2021-01-26 00:00:00|2021-01-26 03:21:57|2021-01-26 03:31:43|2021-01-26 03:40:05|90      |0.2679             |0.8               |80.0             |80.0              |0        |1257.0              |NULL            |220.85306371354298|NULL          |18                           |\n",
            "|2021-01-26 03:22:07|556769  |2021-01-26 00:00:00|2021-01-26 03:22:08|2021-01-26 03:27:47|2021-01-26 03:38:20|1967    |0.1893331661       |1.02              |93.0             |91.0              |0        |1619.0              |NULL            |220.85306371354298|NULL          |16                           |\n",
            "|2021-01-26 03:23:16|556770  |2021-01-26 00:00:00|2021-01-26 03:23:28|2021-01-26 03:41:52|2021-01-26 03:53:24|10879   |2.7706             |1.74              |289.0            |288.0             |0        |2063.0              |NULL            |220.85306371354298|NULL          |30                           |\n",
            "|2021-01-26 03:23:28|556771  |2021-01-26 00:00:00|2021-01-26 03:23:57|2021-01-26 03:27:35|2021-01-26 03:35:39|8518    |0.2269             |2.85              |109.0            |109.0             |0        |2819.0              |NULL            |0.5               |NULL          |12                           |\n",
            "|2021-01-26 03:23:42|556772  |2021-01-26 00:00:00|2021-01-26 03:24:38|2021-01-26 03:57:57|2021-01-26 04:15:05|10882   |2.0836             |2.43              |16.0             |16.0              |0        |72.0                |NULL            |220.85306371354298|NULL          |51                           |\n",
            "+-------------------+--------+-------------------+-------------------+-------------------+-------------------+--------+-------------------+------------------+-----------------+------------------+---------+--------------------+----------------+------------------+--------------+-----------------------------+\n",
            "only showing top 20 rows\n",
            "\n"
          ]
        }
      ]
    },
    {
      "cell_type": "markdown",
      "source": [
        "Add Columns Average Order Volume,Total Distrance Per Order"
      ],
      "metadata": {
        "id": "nAjETnocJ37Q"
      }
    },
    {
      "cell_type": "code",
      "source": [
        "# Calculate average order volume per rider\n",
        "df2 = df2.withColumn(\"average_order_volume\", col(\"delivered_orders\") / col(\"alloted_orders\"))\n",
        "\n",
        "# Compute total distance traveled per order\n",
        "df2 = df2.withColumn(\"total_distance_per_order\", col(\"first_mile_distance\") + col(\"last_mile_distance\"))\n",
        "\n",
        "\n",
        "\n",
        "\n",
        "# Show the updated DataFrame\n",
        "df2.show()\n"
      ],
      "metadata": {
        "colab": {
          "base_uri": "https://localhost:8080/"
        },
        "id": "0ZkAHckPJmRk",
        "outputId": "6c7f1789-e6d9-48d7-eaed-107e9f627ccd"
      },
      "execution_count": 420,
      "outputs": [
        {
          "output_type": "stream",
          "name": "stdout",
          "text": [
            "+-------------------+--------+-------------------+-------------------+-------------------+-------------------+--------+-------------------+------------------+-----------------+------------------+---------+--------------------+----------------+------------------+--------------+-----------------------------+--------------------+------------------------+\n",
            "|         order_time|order_id|         order_date|         allot_time|        pickup_time|     delivered_time|rider_id|first_mile_distance|last_mile_distance|   alloted_orders|  delivered_orders|cancelled|lifetime_order_count|reassigned_order|      session_time|cancelled_time|order_processing_time_minutes|average_order_volume|total_distance_per_order|\n",
            "+-------------------+--------+-------------------+-------------------+-------------------+-------------------+--------+-------------------+------------------+-----------------+------------------+---------+--------------------+----------------+------------------+--------------+-----------------------------+--------------------+------------------------+\n",
            "|2021-01-26 02:21:35|  556753|2021-01-26 00:00:00|2021-01-26 02:21:59|2021-01-26 02:32:51|2021-01-26 02:49:47|   11696|             1.5666|              2.65|             46.0|              46.0|        0|               621.0|            NULL|220.85306371354298|          NULL|                           28|                 1.0|                  4.2166|\n",
            "|2021-01-26 02:33:16|  556754|2021-01-26 00:00:00|2021-01-26 02:33:57|2021-01-26 02:50:25|2021-01-26 03:11:15|   18117|             2.5207|              2.76|              8.0|               8.0|        0|               105.0|            NULL|3.2666666666666666|          NULL|                           37|                 1.0|      5.2806999999999995|\n",
            "|2021-01-26 02:39:49|  556755|2021-01-26 00:00:00|2021-01-26 02:39:57|2021-01-26 02:56:00|2021-01-26 03:12:46|   18623|             2.2074|               4.8|              1.0|               1.0|        0|                66.0|            NULL| 9.816666666666666|          NULL|                           32|                 1.0|                  7.0074|\n",
            "|2021-01-26 02:47:53|  556756|2021-01-26 00:00:00|2021-01-26 02:48:25|2021-01-26 03:21:51|2021-01-26 03:41:05|   15945|             2.1894|              6.38|              1.0|               1.0|        0|               127.0|            NULL|17.533333333333335|          NULL|                           53|                 1.0|                  8.5694|\n",
            "|2021-01-26 03:06:30|  556757|2021-01-26 00:00:00|2021-01-26 03:07:21|2021-01-26 03:31:38|2021-01-26 04:00:15|   17589|              2.787|              4.01|             34.0|              34.0|        0|                84.0|            NULL|              1.35|          NULL|                           53|                 1.0|                   6.797|\n",
            "|2021-01-26 03:07:16|  556758|2021-01-26 00:00:00|2021-01-26 03:12:14|2021-01-26 03:25:36|2021-01-26 03:45:51|    1469|             2.4818|              5.18|            296.0|             294.0|        0|              1506.0|            NULL|220.85306371354298|          NULL|                           38|  0.9932432432432432|      7.6617999999999995|\n",
            "|2021-01-26 03:10:50|  556759|2021-01-26 00:00:00|2021-01-26 03:11:18|2021-01-26 03:19:31|2021-01-26 03:26:04|    8851|             2.8091|               3.4|             45.0|              45.0|        0|              1460.0|            NULL|220.85306371354298|          NULL|                           15|                 1.0|       6.209099999999999|\n",
            "|2021-01-26 03:14:10|  556760|2021-01-26 00:00:00|2021-01-26 03:14:38|2021-01-26 03:33:53|2021-01-26 03:42:38|    8493|    0.0256813580427|              0.16|             54.0|              53.0|        0|               270.0|            NULL| 44.16666666666666|          NULL|                           28|  0.9814814814814815|         0.1856813580427|\n",
            "|2021-01-26 03:14:20|  556761|2021-01-26 00:00:00|2021-01-26 03:14:50|2021-01-26 04:00:02|2021-01-26 04:13:31|   11543|             2.4442|              2.86|             29.0|              29.0|        0|               955.0|            NULL|               2.5|          NULL|                           59|                 1.0|                  5.3042|\n",
            "|2021-01-26 03:15:18|  556762|2021-01-26 00:00:00|2021-01-26 03:21:27|2021-01-26 04:14:56|2021-01-26 04:38:39|   21037|             2.8786|              2.61|104.9419393534866|104.22386153501317|        0|                 1.0|             1.0|220.85306371354298|          NULL|                           83|   0.993157379948405|                  5.4886|\n",
            "|2021-01-26 03:16:12|  556763|2021-01-26 00:00:00|2021-01-26 03:16:53|2021-01-26 03:31:53|2021-01-26 03:40:16|    8795|              1.393|              3.31|             17.0|              17.0|        0|               174.0|            NULL|             43.25|          NULL|                           24|                 1.0|                   4.703|\n",
            "|2021-01-26 03:16:43|  556764|2021-01-26 00:00:00|2021-01-26 03:16:49|2021-01-26 03:26:29|2021-01-26 03:41:04|     513|             1.4751|              3.62|             12.0|              12.0|        0|               269.0|            NULL| 46.71666666666667|          NULL|                           24|                 1.0|                  5.0951|\n",
            "|2021-01-26 03:17:13|  556765|2021-01-26 00:00:00|2021-01-26 03:17:29|2021-01-26 03:48:56|2021-01-26 03:59:45|   17947|             1.7201|              0.38|             53.0|              52.0|        0|               801.0|            NULL|220.85306371354298|          NULL|                           42|  0.9811320754716981|                  2.1001|\n",
            "|2021-01-26 03:21:07|  556766|2021-01-26 00:00:00|2021-01-26 03:21:34|2021-01-26 03:33:17|2021-01-26 03:39:24|     294|             0.6929|              1.46|            252.0|             250.0|        0|              2390.0|            NULL|220.85306371354298|          NULL|                           18|  0.9920634920634921|                  2.1529|\n",
            "|2021-01-26 03:21:37|  556767|2021-01-26 00:00:00|2021-01-26 03:22:28|2021-01-26 03:47:49|2021-01-26 04:06:38|    1724|             1.5005|              4.83|             67.0|              67.0|        0|               484.0|            NULL|220.85306371354298|          NULL|                           45|                 1.0|                  6.3305|\n",
            "|2021-01-26 03:21:56|  556768|2021-01-26 00:00:00|2021-01-26 03:21:57|2021-01-26 03:31:43|2021-01-26 03:40:05|      90|             0.2679|               0.8|             80.0|              80.0|        0|              1257.0|            NULL|220.85306371354298|          NULL|                           18|                 1.0|                  1.0679|\n",
            "|2021-01-26 03:22:07|  556769|2021-01-26 00:00:00|2021-01-26 03:22:08|2021-01-26 03:27:47|2021-01-26 03:38:20|    1967|       0.1893331661|              1.02|             93.0|              91.0|        0|              1619.0|            NULL|220.85306371354298|          NULL|                           16|   0.978494623655914|            1.2093331661|\n",
            "|2021-01-26 03:23:16|  556770|2021-01-26 00:00:00|2021-01-26 03:23:28|2021-01-26 03:41:52|2021-01-26 03:53:24|   10879|             2.7706|              1.74|            289.0|             288.0|        0|              2063.0|            NULL|220.85306371354298|          NULL|                           30|  0.9965397923875432|                  4.5106|\n",
            "|2021-01-26 03:23:28|  556771|2021-01-26 00:00:00|2021-01-26 03:23:57|2021-01-26 03:27:35|2021-01-26 03:35:39|    8518|             0.2269|              2.85|            109.0|             109.0|        0|              2819.0|            NULL|               0.5|          NULL|                           12|                 1.0|                  3.0769|\n",
            "|2021-01-26 03:23:42|  556772|2021-01-26 00:00:00|2021-01-26 03:24:38|2021-01-26 03:57:57|2021-01-26 04:15:05|   10882|             2.0836|              2.43|             16.0|              16.0|        0|                72.0|            NULL|220.85306371354298|          NULL|                           51|                 1.0|                  4.5136|\n",
            "+-------------------+--------+-------------------+-------------------+-------------------+-------------------+--------+-------------------+------------------+-----------------+------------------+---------+--------------------+----------------+------------------+--------------+-----------------------------+--------------------+------------------------+\n",
            "only showing top 20 rows\n",
            "\n"
          ]
        }
      ]
    },
    {
      "cell_type": "markdown",
      "source": [
        "**Analysis**"
      ],
      "metadata": {
        "id": "jNd-_NtkKEpx"
      }
    },
    {
      "cell_type": "markdown",
      "source": [
        "Order Processing Time Distribution"
      ],
      "metadata": {
        "id": "MovcnHLSx8N5"
      }
    },
    {
      "cell_type": "code",
      "source": [
        "#import necessary libraries\n",
        "import matplotlib.pyplot as plt\n",
        "import seaborn as sns\n",
        "from pyspark.sql.functions import col\n",
        "import numpy as np"
      ],
      "metadata": {
        "id": "hbShnpgYn8D6"
      },
      "execution_count": 421,
      "outputs": []
    },
    {
      "cell_type": "code",
      "source": [
        "\n",
        "# Extract order processing times from the DataFrame\n",
        "order_processing_times = df2.select(\"order_processing_time_minutes\").rdd.flatMap(lambda x: x).collect()\n",
        "\n",
        "# Determine bin edges based on order processing times\n",
        "max_time = max(order_processing_times)\n",
        "num_bins = int(max_time / 60) + 1\n",
        "bin_edges = np.linspace(0, max_time, num_bins + 1)\n",
        "\n",
        "# Plot histogram\n",
        "plt.figure(figsize=(10, 6))\n",
        "plt.hist(order_processing_times, bins=bin_edges, edgecolor='black')\n",
        "plt.title(\"Order Processing Time Distribution\")\n",
        "plt.xlabel(\"Order Processing Time (minutes)\")\n",
        "plt.ylabel(\"Frequency\")\n",
        "plt.xticks(bin_edges)  # Set x-axis ticks to match bin boundaries\n",
        "plt.grid(True)\n",
        "plt.show()\n",
        "\n",
        "\n",
        "\n"
      ],
      "metadata": {
        "colab": {
          "base_uri": "https://localhost:8080/",
          "height": 564
        },
        "id": "-E7YEzenn6dD",
        "outputId": "0d454d26-7332-4f4e-e81e-d97e53fd5d03"
      },
      "execution_count": 422,
      "outputs": [
        {
          "output_type": "display_data",
          "data": {
            "text/plain": [
              "<Figure size 1000x600 with 1 Axes>"
            ],
            "image/png": "[encoded data removed]"
          },
          "metadata": {}
        }
      ]
    },
    {
      "cell_type": "code",
      "source": [
        "df2.printSchema()\n"
      ],
      "metadata": {
        "colab": {
          "base_uri": "https://localhost:8080/"
        },
        "id": "XHdNFiWPLw3Z",
        "outputId": "bfe04153-27fc-49ad-fdec-28479a9fe2ff"
      },
      "execution_count": 423,
      "outputs": [
        {
          "output_type": "stream",
          "name": "stdout",
          "text": [
            "root\n",
            " |-- order_time: string (nullable = true)\n",
            " |-- order_id: string (nullable = true)\n",
            " |-- order_date: string (nullable = true)\n",
            " |-- allot_time: string (nullable = true)\n",
            " |-- pickup_time: string (nullable = true)\n",
            " |-- delivered_time: string (nullable = true)\n",
            " |-- rider_id: string (nullable = true)\n",
            " |-- first_mile_distance: string (nullable = true)\n",
            " |-- last_mile_distance: string (nullable = true)\n",
            " |-- alloted_orders: string (nullable = false)\n",
            " |-- delivered_orders: string (nullable = false)\n",
            " |-- cancelled: string (nullable = true)\n",
            " |-- lifetime_order_count: string (nullable = false)\n",
            " |-- reassigned_order: string (nullable = true)\n",
            " |-- session_time: string (nullable = false)\n",
            " |-- cancelled_time: string (nullable = true)\n",
            " |-- order_processing_time_minutes: integer (nullable = true)\n",
            " |-- average_order_volume: double (nullable = true)\n",
            " |-- total_distance_per_order: double (nullable = true)\n",
            "\n"
          ]
        }
      ]
    },
    {
      "cell_type": "markdown",
      "source": [
        "Analysis of Correlation Between Total Distance and Order Processing Time"
      ],
      "metadata": {
        "id": "_SBAwCCtTXF7"
      }
    },
    {
      "cell_type": "code",
      "source": [
        "import pandas as pd\n",
        "import numpy as np\n",
        "import matplotlib.pyplot as plt"
      ],
      "metadata": {
        "id": "E_Zi-9zvMS2i"
      },
      "execution_count": 429,
      "outputs": []
    },
    {
      "cell_type": "code",
      "source": [
        "# Scatter plot between total_distance_per_order and order_processing_time_minutes\n",
        "plt.figure(figsize=(10, 6))\n",
        "plt.scatter(df2.select('total_distance_per_order').collect(),\n",
        "            df2.select('order_processing_time_minutes').collect(),\n",
        "            color='blue', alpha=0.5)\n",
        "plt.title('Total Distance per Order vs Order Processing Time')\n",
        "plt.xlabel('Total Distance per Order')\n",
        "plt.ylabel('Order Processing Time (minutes)')\n",
        "plt.grid(True)\n",
        "plt.show()\n"
      ],
      "metadata": {
        "colab": {
          "base_uri": "https://localhost:8080/",
          "height": 564
        },
        "id": "aQrTBsrGMRIE",
        "outputId": "fc20decf-2784-4e53-8c15-90ce0637c312"
      },
      "execution_count": 431,
      "outputs": [
        {
          "output_type": "display_data",
          "data": {
            "text/plain": [
              "<Figure size 1000x600 with 1 Axes>"
            ],
            "image/png": "[encoded data removed]"
          },
          "metadata": {}
        }
      ]
    },
    {
      "cell_type": "markdown",
      "source": [
        "Analysis of Correlation Between Time of the Day and Order Processing Time"
      ],
      "metadata": {
        "id": "NpicRbUnT-8d"
      }
    },
    {
      "cell_type": "code",
      "source": [
        "from pyspark.sql.functions import col, year, month\n",
        "import matplotlib.pyplot as plt"
      ],
      "metadata": {
        "id": "gc9N074dUCAk"
      },
      "execution_count": 443,
      "outputs": []
    },
    {
      "cell_type": "code",
      "source": [
        "\n",
        "\n",
        "# Extract year and month from the order_date column\n",
        "df2 = df2.withColumn(\"year\", year(\"order_date\"))\n",
        "df2 = df2.withColumn(\"month\", month(\"order_date\"))\n",
        "\n",
        "# Calculate average processing time on a monthly basis\n",
        "monthly_avg_processing_time = df2.groupBy(\"year\", \"month\").avg(\"order_processing_time_minutes\").orderBy(\"year\", \"month\").toPandas()\n",
        "\n",
        "# Combine year and month into a single column for plotting\n",
        "monthly_avg_processing_time[\"year_month\"] = monthly_avg_processing_time[\"year\"].astype(str) + \"-\" + monthly_avg_processing_time[\"month\"].astype(str)\n",
        "\n",
        "# Plotting the monthly trend\n",
        "plt.figure(figsize=(12, 6))\n",
        "plt.plot(monthly_avg_processing_time[\"year_month\"], monthly_avg_processing_time[\"avg(order_processing_time_minutes)\"], marker='o', color='b', linestyle='-')\n",
        "plt.title(\"Monthly Average Order Processing Time\")\n",
        "plt.xlabel(\"Month\")\n",
        "plt.ylabel(\"Average Processing Time (minutes)\")\n",
        "plt.xticks(rotation=45)\n",
        "plt.grid(True)\n",
        "plt.show()\n",
        "\n"
      ],
      "metadata": {
        "colab": {
          "base_uri": "https://localhost:8080/",
          "height": 595
        },
        "id": "IYi9x7xIUEeV",
        "outputId": "fa078942-c57f-45e6-9549-a9e16a5b09e3"
      },
      "execution_count": 444,
      "outputs": [
        {
          "output_type": "display_data",
          "data": {
            "text/plain": [
              "<Figure size 1200x600 with 1 Axes>"
            ],
            "image/png": "[encoded data removed]"
          },
          "metadata": {}
        }
      ]
    }
  ]
}